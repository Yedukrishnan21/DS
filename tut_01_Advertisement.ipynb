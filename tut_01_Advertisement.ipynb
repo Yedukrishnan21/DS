{
 "cells": [
  {
   "cell_type": "code",
   "execution_count": 2,
   "metadata": {},
   "outputs": [],
   "source": [
    "import numpy as np\n",
    "import pandas as pd\n",
    "import matplotlib.pyplot as plt\n",
    "from sklearn.model_selection import train_test_split"
   ]
  },
  {
   "cell_type": "code",
   "execution_count": 3,
   "metadata": {},
   "outputs": [],
   "source": [
    "data = pd.read_csv(\"Data\\Advertising.csv\")"
   ]
  },
  {
   "cell_type": "code",
   "execution_count": 4,
   "metadata": {},
   "outputs": [
    {
     "data": {
      "text/html": [
       "<div>\n",
       "<style scoped>\n",
       "    .dataframe tbody tr th:only-of-type {\n",
       "        vertical-align: middle;\n",
       "    }\n",
       "\n",
       "    .dataframe tbody tr th {\n",
       "        vertical-align: top;\n",
       "    }\n",
       "\n",
       "    .dataframe thead th {\n",
       "        text-align: right;\n",
       "    }\n",
       "</style>\n",
       "<table border=\"1\" class=\"dataframe\">\n",
       "  <thead>\n",
       "    <tr style=\"text-align: right;\">\n",
       "      <th></th>\n",
       "      <th>Unnamed: 0</th>\n",
       "      <th>TV</th>\n",
       "      <th>radio</th>\n",
       "      <th>newspaper</th>\n",
       "      <th>sales</th>\n",
       "    </tr>\n",
       "  </thead>\n",
       "  <tbody>\n",
       "    <tr>\n",
       "      <th>0</th>\n",
       "      <td>1</td>\n",
       "      <td>230.1</td>\n",
       "      <td>37.8</td>\n",
       "      <td>69.2</td>\n",
       "      <td>22.1</td>\n",
       "    </tr>\n",
       "    <tr>\n",
       "      <th>1</th>\n",
       "      <td>2</td>\n",
       "      <td>44.5</td>\n",
       "      <td>39.3</td>\n",
       "      <td>45.1</td>\n",
       "      <td>10.4</td>\n",
       "    </tr>\n",
       "    <tr>\n",
       "      <th>2</th>\n",
       "      <td>3</td>\n",
       "      <td>17.2</td>\n",
       "      <td>45.9</td>\n",
       "      <td>69.3</td>\n",
       "      <td>9.3</td>\n",
       "    </tr>\n",
       "    <tr>\n",
       "      <th>3</th>\n",
       "      <td>4</td>\n",
       "      <td>151.5</td>\n",
       "      <td>41.3</td>\n",
       "      <td>58.5</td>\n",
       "      <td>18.5</td>\n",
       "    </tr>\n",
       "    <tr>\n",
       "      <th>4</th>\n",
       "      <td>5</td>\n",
       "      <td>180.8</td>\n",
       "      <td>10.8</td>\n",
       "      <td>58.4</td>\n",
       "      <td>12.9</td>\n",
       "    </tr>\n",
       "  </tbody>\n",
       "</table>\n",
       "</div>"
      ],
      "text/plain": [
       "   Unnamed: 0     TV  radio  newspaper  sales\n",
       "0           1  230.1   37.8       69.2   22.1\n",
       "1           2   44.5   39.3       45.1   10.4\n",
       "2           3   17.2   45.9       69.3    9.3\n",
       "3           4  151.5   41.3       58.5   18.5\n",
       "4           5  180.8   10.8       58.4   12.9"
      ]
     },
     "execution_count": 4,
     "metadata": {},
     "output_type": "execute_result"
    }
   ],
   "source": [
    "data.head()"
   ]
  },
  {
   "cell_type": "code",
   "execution_count": 11,
   "metadata": {},
   "outputs": [],
   "source": [
    "features=[\"TV\",\"radio\",\"newspaper\"]\n",
    "X=data[features]\n",
    "y = data[\"sales\"]"
   ]
  },
  {
   "cell_type": "code",
   "execution_count": 12,
   "metadata": {},
   "outputs": [
    {
     "data": {
      "text/html": [
       "<div>\n",
       "<style scoped>\n",
       "    .dataframe tbody tr th:only-of-type {\n",
       "        vertical-align: middle;\n",
       "    }\n",
       "\n",
       "    .dataframe tbody tr th {\n",
       "        vertical-align: top;\n",
       "    }\n",
       "\n",
       "    .dataframe thead th {\n",
       "        text-align: right;\n",
       "    }\n",
       "</style>\n",
       "<table border=\"1\" class=\"dataframe\">\n",
       "  <thead>\n",
       "    <tr style=\"text-align: right;\">\n",
       "      <th></th>\n",
       "      <th>TV</th>\n",
       "      <th>radio</th>\n",
       "      <th>newspaper</th>\n",
       "    </tr>\n",
       "  </thead>\n",
       "  <tbody>\n",
       "    <tr>\n",
       "      <th>0</th>\n",
       "      <td>230.1</td>\n",
       "      <td>37.8</td>\n",
       "      <td>69.2</td>\n",
       "    </tr>\n",
       "    <tr>\n",
       "      <th>1</th>\n",
       "      <td>44.5</td>\n",
       "      <td>39.3</td>\n",
       "      <td>45.1</td>\n",
       "    </tr>\n",
       "    <tr>\n",
       "      <th>2</th>\n",
       "      <td>17.2</td>\n",
       "      <td>45.9</td>\n",
       "      <td>69.3</td>\n",
       "    </tr>\n",
       "    <tr>\n",
       "      <th>3</th>\n",
       "      <td>151.5</td>\n",
       "      <td>41.3</td>\n",
       "      <td>58.5</td>\n",
       "    </tr>\n",
       "    <tr>\n",
       "      <th>4</th>\n",
       "      <td>180.8</td>\n",
       "      <td>10.8</td>\n",
       "      <td>58.4</td>\n",
       "    </tr>\n",
       "  </tbody>\n",
       "</table>\n",
       "</div>"
      ],
      "text/plain": [
       "      TV  radio  newspaper\n",
       "0  230.1   37.8       69.2\n",
       "1   44.5   39.3       45.1\n",
       "2   17.2   45.9       69.3\n",
       "3  151.5   41.3       58.5\n",
       "4  180.8   10.8       58.4"
      ]
     },
     "execution_count": 12,
     "metadata": {},
     "output_type": "execute_result"
    }
   ],
   "source": [
    "X.head()"
   ]
  },
  {
   "cell_type": "code",
   "execution_count": 13,
   "metadata": {},
   "outputs": [
    {
     "data": {
      "text/plain": [
       "0    22.1\n",
       "1    10.4\n",
       "2     9.3\n",
       "3    18.5\n",
       "4    12.9\n",
       "Name: sales, dtype: float64"
      ]
     },
     "execution_count": 13,
     "metadata": {},
     "output_type": "execute_result"
    }
   ],
   "source": [
    "y.head()"
   ]
  },
  {
   "cell_type": "code",
   "execution_count": 14,
   "metadata": {},
   "outputs": [],
   "source": [
    "X_train,X_test,y_train,y_test=train_test_split(X,y,random_state=1)"
   ]
  },
  {
   "cell_type": "code",
   "execution_count": 15,
   "metadata": {},
   "outputs": [
    {
     "name": "stdout",
     "output_type": "stream",
     "text": [
      "Coefficients: [2.87696662 0.04656457 0.17915812 0.00345046]\n",
      "RSS: 463.01870202437027\n",
      "R2: 0.890307557755665\n",
      "RSE: 1.7808315396942125\n",
      "F-statistic: 394.9980532623856\n"
     ]
    }
   ],
   "source": [
    "X_train = np.c_[np.ones(X_train.shape[0]), X_train]\n",
    "X_test = np.c_[np.ones(X_test.shape[0]), X_test]\n",
    "\n",
    "\n",
    "y_train = y_train.values\n",
    "y_test = y_test.values\n",
    "\n",
    "\n",
    "beta = np.linalg.inv(X_train.T @ X_train) @ (X_train.T @ y_train)\n",
    "\n",
    "\n",
    "y_pred = X_train @ beta\n",
    "\n",
    "\n",
    "RSS = np.sum((y_train - y_pred) ** 2)\n",
    "TSS = np.sum((y_train - np.mean(y_train)) ** 2)\n",
    "R2 = 1 - RSS / TSS\n",
    "n, p = X_train.shape[0], X_train.shape[1] - 1\n",
    "RSE = np.sqrt(RSS / (n - p - 1))\n",
    "F_statistic = ((TSS - RSS) / p) / (RSS / (n - p - 1))\n",
    "\n",
    "\n",
    "print(f\"Coefficients: {beta}\")\n",
    "print(f\"RSS: {RSS}\")\n",
    "print(f\"R2: {R2}\")\n",
    "print(f\"RSE: {RSE}\")\n",
    "print(f\"F-statistic: {F_statistic}\")"
   ]
  },
  {
   "cell_type": "code",
   "execution_count": 16,
   "metadata": {},
   "outputs": [
    {
     "name": "stdout",
     "output_type": "stream",
     "text": [
      "Coefficients: [6.91197262 0.04802945]\n",
      "RSS: 1587.8471561406188\n",
      "R2: 0.623827651655809\n",
      "RSE: 3.275468974200508\n",
      "F-statistic: 245.43668042442786\n"
     ]
    }
   ],
   "source": [
    "xt = data[\"TV\"]  \n",
    "y = data[\"sales\"]  \n",
    "\n",
    "xt_train, xt_test, y_train, y_test = train_test_split(xt, y, random_state=1)\n",
    "\n",
    "xt_train = xt_train.values.reshape(-1, 1)\n",
    "xt_test = xt_test.values.reshape(-1, 1)\n",
    "\n",
    "X_train = np.c_[np.ones(xt_train.shape[0]), xt_train]  \n",
    "X_test = np.c_[np.ones(xt_test.shape[0]), xt_test]\n",
    "\n",
    "beta = np.linalg.inv(X_train.T @ X_train) @ (X_train.T @ y_train)\n",
    "\n",
    "y_pred = X_train @ beta\n",
    "\n",
    "RSS = np.sum((y_train - y_pred) ** 2)  \n",
    "TSS = np.sum((y_train - np.mean(y_train)) ** 2) \n",
    "R2 = 1 - RSS / TSS  \n",
    "n, p = X_train.shape[0], 1  \n",
    "RSE = np.sqrt(RSS / (n - p - 1))  \n",
    "F_statistic = ((TSS - RSS) / p) / (RSS / (n - p - 1))  \n",
    "\n",
    "print(f\"Coefficients: {beta}\")\n",
    "print(f\"RSS: {RSS}\")\n",
    "print(f\"R2: {R2}\")\n",
    "print(f\"RSE: {RSE}\")\n",
    "print(f\"F-statistic: {F_statistic}\")"
   ]
  },
  {
   "cell_type": "code",
   "execution_count": 17,
   "metadata": {},
   "outputs": [
    {
     "name": "stdout",
     "output_type": "stream",
     "text": [
      "Coefficients: [9.33859455 0.19338969]\n",
      "RSS: 2937.6263521070696\n",
      "R2: 0.3040553058546194\n",
      "RSE: 4.455202206794451\n",
      "F-statistic: 64.6605766881287\n"
     ]
    }
   ],
   "source": [
    "xt = data[\"radio\"] \n",
    "y = data[\"sales\"]  \n",
    "\n",
    "xt_train, xt_test, y_train, y_test = train_test_split(xt, y, random_state=1)\n",
    "\n",
    "xt_train = xt_train.values.reshape(-1, 1)\n",
    "xt_test = xt_test.values.reshape(-1, 1)\n",
    "\n",
    "X_train = np.c_[np.ones(xt_train.shape[0]), xt_train]  \n",
    "X_test = np.c_[np.ones(xt_test.shape[0]), xt_test]\n",
    "\n",
    "\n",
    "beta = np.linalg.inv(X_train.T @ X_train) @ (X_train.T @ y_train)\n",
    "\n",
    "y_pred = X_train @ beta\n",
    "\n",
    "RSS = np.sum((y_train - y_pred) ** 2)  \n",
    "TSS = np.sum((y_train - np.mean(y_train)) ** 2)  \n",
    "R2 = 1 - RSS / TSS  \n",
    "n, p = X_train.shape[0], 1  \n",
    "RSE = np.sqrt(RSS / (n - p - 1))  \n",
    "F_statistic = ((TSS - RSS) / p) / (RSS / (n - p - 1))  \n",
    "\n",
    "\n",
    "print(f\"Coefficients: {beta}\")\n",
    "print(f\"RSS: {RSS}\")\n",
    "print(f\"R2: {R2}\")\n",
    "print(f\"RSE: {RSE}\")\n",
    "print(f\"F-statistic: {F_statistic}\")"
   ]
  },
  {
   "cell_type": "code",
   "execution_count": 18,
   "metadata": {},
   "outputs": [
    {
     "name": "stdout",
     "output_type": "stream",
     "text": [
      "Coefficients: [11.76557671  0.06888299]\n",
      "RSS: 3898.6080970842904\n",
      "R2: 0.07639185706108453\n",
      "RSE: 5.1324406087085785\n",
      "F-statistic: 12.241116464245225\n"
     ]
    }
   ],
   "source": [
    "xt = data[\"newspaper\"]  \n",
    "y = data[\"sales\"]  \n",
    "\n",
    "xt_train, xt_test, y_train, y_test = train_test_split(xt, y, random_state=1)\n",
    "\n",
    "xt_train = xt_train.values.reshape(-1, 1)\n",
    "xt_test = xt_test.values.reshape(-1, 1)\n",
    "\n",
    "X_train = np.c_[np.ones(xt_train.shape[0]), xt_train]  \n",
    "X_test = np.c_[np.ones(xt_test.shape[0]), xt_test]\n",
    "\n",
    "beta = np.linalg.inv(X_train.T @ X_train) @ (X_train.T @ y_train)\n",
    "\n",
    "y_pred = X_train @ beta\n",
    "\n",
    "# Metrics calculations\n",
    "RSS = np.sum((y_train - y_pred) ** 2) \n",
    "TSS = np.sum((y_train - np.mean(y_train)) ** 2)  \n",
    "R2 = 1 - RSS / TSS  \n",
    "n, p = X_train.shape[0], 1  \n",
    "RSE = np.sqrt(RSS / (n - p - 1)) \n",
    "F_statistic = ((TSS - RSS) / p) / (RSS / (n - p - 1))  \n",
    "\n",
    "\n",
    "print(f\"Coefficients: {beta}\")\n",
    "print(f\"RSS: {RSS}\")\n",
    "print(f\"R2: {R2}\")\n",
    "print(f\"RSE: {RSE}\")\n",
    "print(f\"F-statistic: {F_statistic}\")"
   ]
  },
  {
   "cell_type": "code",
   "execution_count": null,
   "metadata": {},
   "outputs": [],
   "source": []
  }
 ],
 "metadata": {
  "kernelspec": {
   "display_name": "Python 3",
   "language": "python",
   "name": "python3"
  },
  "language_info": {
   "codemirror_mode": {
    "name": "ipython",
    "version": 3
   },
   "file_extension": ".py",
   "mimetype": "text/x-python",
   "name": "python",
   "nbconvert_exporter": "python",
   "pygments_lexer": "ipython3",
   "version": "3.11.11"
  }
 },
 "nbformat": 4,
 "nbformat_minor": 2
}
